{
  "nbformat": 4,
  "nbformat_minor": 0,
  "metadata": {
    "colab": {
      "provenance": [],
      "authorship_tag": "ABX9TyMtp5mHgZ/6ZIWEMTs+kbOj",
      "include_colab_link": true
    },
    "kernelspec": {
      "name": "python3",
      "display_name": "Python 3"
    },
    "language_info": {
      "name": "python"
    }
  },
  "cells": [
    {
      "cell_type": "markdown",
      "metadata": {
        "id": "view-in-github",
        "colab_type": "text"
      },
      "source": [
        "<a href=\"https://colab.research.google.com/github/Sairishithreddyvem/DAV/blob/main/coverting_into_csv_file.ipynb\" target=\"_parent\"><img src=\"https://colab.research.google.com/assets/colab-badge.svg\" alt=\"Open In Colab\"/></a>"
      ]
    },
    {
      "cell_type": "code",
      "execution_count": null,
      "metadata": {
        "id": "r1Jwr4GHj9uD"
      },
      "outputs": [],
      "source": []
    },
    {
      "cell_type": "code",
      "metadata": {
        "colab": {
          "base_uri": "https://localhost:8080/"
        },
        "id": "616b8db3",
        "outputId": "b3435fcf-44b6-46d6-b8c7-239f179fa7db"
      },
      "source": [
        "import pandas as pd\n",
        "import csv\n",
        "\n",
        "# Sample data\n",
        "my_list = [1, 2, 3, 4, 5]\n",
        "my_tuple = (6, 7, 8, 9, 10)\n",
        "my_dict = {'col1': [11, 12, 13], 'col2': [14, 15, 16]}\n",
        "my_dataframe = pd.DataFrame(my_dict)\n",
        "\n",
        "# Convert list to CSV\n",
        "with open('list.csv', 'w', newline='') as csvfile:\n",
        "    writer = csv.writer(csvfile)\n",
        "    writer.writerow(my_list)\n",
        "\n",
        "# Convert tuple to CSV\n",
        "with open('tuple.csv', 'w', newline='') as csvfile:\n",
        "    writer = csv.writer(csvfile)\n",
        "    writer.writerow(my_tuple)\n",
        "\n",
        "# Convert dictionary to CSV\n",
        "# For dictionary, assuming keys are column headers and values are lists of data\n",
        "with open('dict.csv', 'w', newline='') as csvfile:\n",
        "    writer = csv.writer(csvfile)\n",
        "    writer.writerow(my_dict.keys()) # Write headers\n",
        "    # Write data row by row (assuming all lists in the dictionary are of the same length)\n",
        "    for row_data in zip(*my_dict.values()):\n",
        "        writer.writerow(row_data)\n",
        "\n",
        "# Convert DataFrame to CSV\n",
        "my_dataframe.to_csv('dataframe.csv', index=False)\n",
        "\n",
        "print(\"Data saved to list.csv, tuple.csv, dict.csv, and dataframe.csv\")"
      ],
      "execution_count": 1,
      "outputs": [
        {
          "output_type": "stream",
          "name": "stdout",
          "text": [
            "Data saved to list.csv, tuple.csv, dict.csv, and dataframe.csv\n"
          ]
        }
      ]
    }
  ]
}