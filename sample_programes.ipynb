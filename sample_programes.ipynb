{
  "nbformat": 4,
  "nbformat_minor": 0,
  "metadata": {
    "colab": {
      "provenance": [],
      "authorship_tag": "ABX9TyPepdEtSeU6a0NZy1MD3zDB",
      "include_colab_link": true
    },
    "kernelspec": {
      "name": "python3",
      "display_name": "Python 3"
    },
    "language_info": {
      "name": "python"
    }
  },
  "cells": [
    {
      "cell_type": "markdown",
      "metadata": {
        "id": "view-in-github",
        "colab_type": "text"
      },
      "source": [
        "<a href=\"https://colab.research.google.com/github/Sairishithreddyvem/DAV/blob/main/sample_programes.ipynb\" target=\"_parent\"><img src=\"https://colab.research.google.com/assets/colab-badge.svg\" alt=\"Open In Colab\"/></a>"
      ]
    },
    {
      "cell_type": "code",
      "execution_count": null,
      "metadata": {
        "id": "pcvO9BzGR1qK"
      },
      "outputs": [],
      "source": []
    },
    {
      "cell_type": "markdown",
      "metadata": {
        "id": "07226f2a"
      },
      "source": [
        "Here's how to create a list:"
      ]
    },
    {
      "cell_type": "code",
      "metadata": {
        "colab": {
          "base_uri": "https://localhost:8080/"
        },
        "id": "be616f3d",
        "outputId": "a673ec5a-8eb5-4bee-acbc-f48f7216e3c5"
      },
      "source": [
        "# Creating a list\n",
        "my_list = [1, 2, 3, 'a', 'b', 'c']\n",
        "print(my_list)\n",
        "print(type(my_list))"
      ],
      "execution_count": 1,
      "outputs": [
        {
          "output_type": "stream",
          "name": "stdout",
          "text": [
            "[1, 2, 3, 'a', 'b', 'c']\n",
            "<class 'list'>\n"
          ]
        }
      ]
    },
    {
      "cell_type": "markdown",
      "metadata": {
        "id": "87f6858d"
      },
      "source": [
        "Here's how to create a tuple:"
      ]
    },
    {
      "cell_type": "code",
      "metadata": {
        "colab": {
          "base_uri": "https://localhost:8080/"
        },
        "id": "68c88644",
        "outputId": "5dd3c41d-723f-4917-9a9f-b1f4f159cfe5"
      },
      "source": [
        "# Creating a tuple\n",
        "my_tuple = (1, 2, 3, 'a', 'b', 'c')\n",
        "print(my_tuple)\n",
        "print(type(my_tuple))"
      ],
      "execution_count": 2,
      "outputs": [
        {
          "output_type": "stream",
          "name": "stdout",
          "text": [
            "(1, 2, 3, 'a', 'b', 'c')\n",
            "<class 'tuple'>\n"
          ]
        }
      ]
    },
    {
      "cell_type": "markdown",
      "metadata": {
        "id": "fcada3c7"
      },
      "source": [
        "Here's how to create a dictionary:"
      ]
    },
    {
      "cell_type": "code",
      "metadata": {
        "colab": {
          "base_uri": "https://localhost:8080/"
        },
        "id": "6ede948e",
        "outputId": "102a31ce-fa85-4208-aa83-c95d473d50cd"
      },
      "source": [
        "# Creating a dictionary\n",
        "my_dict = {'key1': 'value1', 'key2': 'value2', 'key3': 123}\n",
        "print(my_dict)\n",
        "print(type(my_dict))"
      ],
      "execution_count": 3,
      "outputs": [
        {
          "output_type": "stream",
          "name": "stdout",
          "text": [
            "{'key1': 'value1', 'key2': 'value2', 'key3': 123}\n",
            "<class 'dict'>\n"
          ]
        }
      ]
    }
  ]
}